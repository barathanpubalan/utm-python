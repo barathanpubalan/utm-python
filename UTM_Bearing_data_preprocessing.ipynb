{
 "cells": [
  {
   "cell_type": "code",
   "execution_count": 1,
   "id": "a20d1bd3",
   "metadata": {},
   "outputs": [],
   "source": [
    "import scipy.io # To use the '.mat' files\n",
    "import seaborn as sns\n",
    "import numpy as np\n",
    "import pandas as pd\n",
    "import os\n",
    "import matplotlib.pyplot as plt"
   ]
  },
  {
   "cell_type": "code",
   "execution_count": 2,
   "id": "592bf4ef-da8c-47ec-8a1b-157afaeae4c1",
   "metadata": {},
   "outputs": [
    {
     "name": "stdout",
     "output_type": "stream",
     "text": [
      "Data_30Hz_OROS\\BFH_30.mat\n"
     ]
    },
    {
     "name": "stderr",
     "output_type": "stream",
     "text": [
      "C:\\Users\\Barat\\AppData\\Local\\Temp\\ipykernel_17628\\1980391624.py:17: FutureWarning: The behavior of DataFrame concatenation with empty or all-NA entries is deprecated. In a future version, this will no longer exclude empty or all-NA columns when determining the result dtypes. To retain the old behavior, exclude the relevant entries before the concat operation.\n",
      "  df = pd.concat([df, df_temp], axis=0)\n"
     ]
    },
    {
     "name": "stdout",
     "output_type": "stream",
     "text": [
      "    DE_data   fault\n",
      "0  0.448635  BFH_30\n",
      "1  0.417881  BFH_30\n",
      "2  0.471588  BFH_30\n",
      "3  0.131947  BFH_30\n",
      "4 -0.018372  BFH_30\n",
      "(512000, 2)\n",
      "Data_30Hz_OROS\\BFL_30.mat\n",
      "    DE_data   fault\n",
      "0 -2.559566  BFL_30\n",
      "1 -1.716911  BFL_30\n",
      "2 -0.807652  BFL_30\n",
      "3  0.281780  BFL_30\n",
      "4  1.345856  BFL_30\n",
      "(1024000, 2)\n",
      "Data_30Hz_OROS\\BFM_30.mat\n",
      "    DE_data   fault\n",
      "0 -2.990475  BFM_30\n",
      "1 -3.834328  BFM_30\n",
      "2 -4.494705  BFM_30\n",
      "3 -4.253475  BFM_30\n",
      "4 -3.479984  BFM_30\n",
      "(1536000, 2)\n",
      "Data_30Hz_OROS\\H_30.mat\n",
      "    DE_data fault\n",
      "0 -0.795341  H_30\n",
      "1  2.046452  H_30\n",
      "2  2.569263  H_30\n",
      "3  1.567291  H_30\n",
      "4 -0.292030  H_30\n",
      "(1792000, 2)\n",
      "Data_30Hz_OROS\\IFH_30.mat\n",
      "    DE_data   fault\n",
      "0 -3.214191  IFH_30\n",
      "1 -2.650726  IFH_30\n",
      "2 -1.136440  IFH_30\n",
      "3  0.510307  IFH_30\n",
      "4  0.858650  IFH_30\n",
      "(2304000, 2)\n",
      "Data_30Hz_OROS\\IFL_30.mat\n",
      "    DE_data   fault\n",
      "0  2.546440  IFL_30\n",
      "1  0.820930  IFL_30\n",
      "2 -4.639427  IFL_30\n",
      "3 -5.384716  IFL_30\n",
      "4 -5.119637  IFL_30\n",
      "(2816000, 2)\n",
      "Data_30Hz_OROS\\IFM_30.mat\n",
      "    DE_data   fault\n",
      "0 -0.759190  IFM_30\n",
      "1 -0.253178  IFM_30\n",
      "2  0.704388  IFM_30\n",
      "3  0.397301  IFM_30\n",
      "4 -0.751537  IFM_30\n",
      "(3328000, 2)\n",
      "Data_30Hz_OROS\\OFL_30.mat\n",
      "    DE_data   fault\n",
      "0  1.319004  OFL_30\n",
      "1  1.345108  OFL_30\n",
      "2  0.604317  OFL_30\n",
      "3  1.901073  OFL_30\n",
      "4  2.193008  OFL_30\n",
      "(3840000, 2)\n",
      "Data_30Hz_OROS\\OFM_30.mat\n",
      "    DE_data   fault\n",
      "0  1.363258  OFM_30\n",
      "1  2.442791  OFM_30\n",
      "2  2.020191  OFM_30\n",
      "3  2.714325  OFM_30\n",
      "4  1.981335  OFM_30\n",
      "(4352000, 2)\n",
      "Data_30Hz_OROS\\ORH_30.mat\n",
      "    DE_data   fault\n",
      "0  2.774715  ORH_30\n",
      "1 -0.390217  ORH_30\n",
      "2  2.895180  ORH_30\n",
      "3  2.330509  ORH_30\n",
      "4 -3.078243  ORH_30\n",
      "(4864000, 2)\n"
     ]
    }
   ],
   "source": [
    "df = pd.DataFrame(columns=['DE_data', 'fault'])\n",
    "\n",
    "for root, dirs, files in os.walk(\"Data_30Hz_OROS\", topdown=False):\n",
    "    for file_name in files:\n",
    "        path = os.path.join(root, file_name)\n",
    "        print(path)\n",
    "\n",
    "        mat = scipy.io.loadmat(path)\n",
    "\n",
    "        key_name = list(mat.keys())[18]\n",
    "        DE_data = mat.get(key_name)\n",
    "        DE_data = DE_data.reshape(-1, 1)\n",
    "        fault = np.full((len(DE_data), 1), file_name[:-4])\n",
    "\n",
    "        df_temp = pd.DataFrame({'DE_data': np.ravel(DE_data), 'fault': np.ravel(fault)})\n",
    "        \n",
    "        df = pd.concat([df, df_temp], axis=0)\n",
    "        print(df_temp.head())  # Check df_temp content\n",
    "        print(df.shape)  # Check df size after each iteration\n",
    "        \n",
    "df.to_csv('0hp_all_faults.csv', index=False)"
   ]
  },
  {
   "cell_type": "code",
   "execution_count": null,
   "id": "18833285-cc5d-4acc-a0aa-b4b91393f105",
   "metadata": {},
   "outputs": [],
   "source": []
  }
 ],
 "metadata": {
  "kernelspec": {
   "display_name": "Python 3 (ipykernel)",
   "language": "python",
   "name": "python3"
  },
  "language_info": {
   "codemirror_mode": {
    "name": "ipython",
    "version": 3
   },
   "file_extension": ".py",
   "mimetype": "text/x-python",
   "name": "python",
   "nbconvert_exporter": "python",
   "pygments_lexer": "ipython3",
   "version": "3.10.13"
  }
 },
 "nbformat": 4,
 "nbformat_minor": 5
}
